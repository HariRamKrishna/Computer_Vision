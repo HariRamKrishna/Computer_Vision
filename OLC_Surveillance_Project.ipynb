{
  "nbformat": 4,
  "nbformat_minor": 0,
  "metadata": {
    "colab": {
      "name": "OLC_Surveillance_Project.ipynb",
      "provenance": []
    },
    "kernelspec": {
      "name": "python3",
      "display_name": "Python 3"
    }
  },
  "cells": [
    {
      "cell_type": "markdown",
      "source": [
        "## Optical Character Recognition\n",
        "Extracting text file from jpg\n",
        " "
      ],
      "metadata": {
        "id": "xE5bCt_16HQh"
      }
    },
    {
      "cell_type": "code",
      "metadata": {
        "id": "6y9hWSzo387n",
        "colab": {
          "base_uri": "https://localhost:8080/"
        },
        "outputId": "cd76b346-1f06-4adc-968e-fe71ad8517f3"
      },
      "source": [
        "!pip install pytesseract\n",
        "!sudo apt install tesseract-ocr"
      ],
      "execution_count": 2,
      "outputs": [
        {
          "output_type": "stream",
          "name": "stdout",
          "text": [
            "Collecting pytesseract\n",
            "  Downloading pytesseract-0.3.8.tar.gz (14 kB)\n",
            "Requirement already satisfied: Pillow in /usr/local/lib/python3.7/dist-packages (from pytesseract) (7.1.2)\n",
            "Building wheels for collected packages: pytesseract\n",
            "  Building wheel for pytesseract (setup.py) ... \u001b[?25l\u001b[?25hdone\n",
            "  Created wheel for pytesseract: filename=pytesseract-0.3.8-py2.py3-none-any.whl size=14070 sha256=a67ec20a58d7738235843e70a08dd01aecbba7e5e6a050b625fea420919de68b\n",
            "  Stored in directory: /root/.cache/pip/wheels/a4/89/b9/3f11250225d0f90e5454fcc30fd1b7208db226850715aa9ace\n",
            "Successfully built pytesseract\n",
            "Installing collected packages: pytesseract\n",
            "Successfully installed pytesseract-0.3.8\n",
            "Reading package lists... Done\n",
            "Building dependency tree       \n",
            "Reading state information... Done\n",
            "The following additional packages will be installed:\n",
            "  tesseract-ocr-eng tesseract-ocr-osd\n",
            "The following NEW packages will be installed:\n",
            "  tesseract-ocr tesseract-ocr-eng tesseract-ocr-osd\n",
            "0 upgraded, 3 newly installed, 0 to remove and 37 not upgraded.\n",
            "Need to get 4,795 kB of archives.\n",
            "After this operation, 15.8 MB of additional disk space will be used.\n",
            "Get:1 http://archive.ubuntu.com/ubuntu bionic/universe amd64 tesseract-ocr-eng all 4.00~git24-0e00fe6-1.2 [1,588 kB]\n",
            "Get:2 http://archive.ubuntu.com/ubuntu bionic/universe amd64 tesseract-ocr-osd all 4.00~git24-0e00fe6-1.2 [2,989 kB]\n",
            "Get:3 http://archive.ubuntu.com/ubuntu bionic/universe amd64 tesseract-ocr amd64 4.00~git2288-10f4998a-2 [218 kB]\n",
            "Fetched 4,795 kB in 3s (1,543 kB/s)\n",
            "debconf: unable to initialize frontend: Dialog\n",
            "debconf: (No usable dialog-like program is installed, so the dialog based frontend cannot be used. at /usr/share/perl5/Debconf/FrontEnd/Dialog.pm line 76, <> line 3.)\n",
            "debconf: falling back to frontend: Readline\n",
            "debconf: unable to initialize frontend: Readline\n",
            "debconf: (This frontend requires a controlling tty.)\n",
            "debconf: falling back to frontend: Teletype\n",
            "dpkg-preconfigure: unable to re-open stdin: \n",
            "Selecting previously unselected package tesseract-ocr-eng.\n",
            "(Reading database ... 155229 files and directories currently installed.)\n",
            "Preparing to unpack .../tesseract-ocr-eng_4.00~git24-0e00fe6-1.2_all.deb ...\n",
            "Unpacking tesseract-ocr-eng (4.00~git24-0e00fe6-1.2) ...\n",
            "Selecting previously unselected package tesseract-ocr-osd.\n",
            "Preparing to unpack .../tesseract-ocr-osd_4.00~git24-0e00fe6-1.2_all.deb ...\n",
            "Unpacking tesseract-ocr-osd (4.00~git24-0e00fe6-1.2) ...\n",
            "Selecting previously unselected package tesseract-ocr.\n",
            "Preparing to unpack .../tesseract-ocr_4.00~git2288-10f4998a-2_amd64.deb ...\n",
            "Unpacking tesseract-ocr (4.00~git2288-10f4998a-2) ...\n",
            "Setting up tesseract-ocr-osd (4.00~git24-0e00fe6-1.2) ...\n",
            "Setting up tesseract-ocr-eng (4.00~git24-0e00fe6-1.2) ...\n",
            "Setting up tesseract-ocr (4.00~git2288-10f4998a-2) ...\n",
            "Processing triggers for man-db (2.8.3-2ubuntu0.1) ...\n"
          ]
        }
      ]
    },
    {
      "cell_type": "code",
      "metadata": {
        "id": "VfHpeQoX69Y7"
      },
      "source": [
        "import cv2 \n",
        "import pytesseract\n",
        "import matplotlib.pyplot as plt\n",
        "from IPython.display import Image\n",
        "from pylab import rcParams\n",
        "import numpy as np\n",
        "from pprint import pprint\n",
        "from pytesseract import Output"
      ],
      "execution_count": 3,
      "outputs": []
    },
    {
      "cell_type": "code",
      "metadata": {
        "id": "aREMjlA77pNH"
      },
      "source": [
        "rcParams['figure.figsize'] = 8, 16"
      ],
      "execution_count": 4,
      "outputs": []
    },
    {
      "cell_type": "code",
      "metadata": {
        "id": "QNh4g1KE4ASw"
      },
      "source": [
        "file_name = \"attendence.jpg\""
      ],
      "execution_count": 5,
      "outputs": []
    },
    {
      "cell_type": "code",
      "source": [
        "file_name1=\"img_7653.jpeg\""
      ],
      "metadata": {
        "id": "S_I-uCpGhHSO"
      },
      "execution_count": 9,
      "outputs": []
    },
    {
      "cell_type": "code",
      "metadata": {
        "id": "R6S7l4kN68Nz"
      },
      "source": [
        "img = cv2.imread(file_name1)"
      ],
      "execution_count": 10,
      "outputs": []
    },
    {
      "cell_type": "code",
      "metadata": {
        "id": "UPwHfRbP7Q-q",
        "colab": {
          "base_uri": "https://localhost:8080/",
          "height": 318
        },
        "outputId": "a99a7446-32c7-4b22-9c39-0e81c19da2ba"
      },
      "source": [
        "plt.imshow(cv2.cvtColor(img, cv2.COLOR_BGR2RGB))"
      ],
      "execution_count": 11,
      "outputs": [
        {
          "output_type": "execute_result",
          "data": {
            "text/plain": [
              "<matplotlib.image.AxesImage at 0x7f0dc63a50d0>"
            ]
          },
          "metadata": {},
          "execution_count": 11
        },
        {
          "output_type": "display_data",
          "data": {
            "image/png": "[encoded data removed]",
            "text/plain": [
              "<Figure size 576x1152 with 1 Axes>"
            ]
          },
          "metadata": {
            "needs_background": "light"
          }
        }
      ]
    },
    {
      "cell_type": "code",
      "metadata": {
        "id": "l-fNsEJo7YOE"
      },
      "source": [
        "text_out = pytesseract.image_to_string(img)"
      ],
      "execution_count": 65,
      "outputs": []
    },
    {
      "cell_type": "code",
      "source": [
        "text_out"
      ],
      "metadata": {
        "colab": {
          "base_uri": "https://localhost:8080/",
          "height": 70
        },
        "id": "_gwNYwP98rgu",
        "outputId": "8d5883cf-cee9-4635-d3d2-c5edd56d464b"
      },
      "execution_count": 64,
      "outputs": [
        {
          "output_type": "execute_result",
          "data": {
            "application/vnd.google.colaboratory.intrinsic+json": {
              "type": "string"
            },
            "text/plain": [
              "'@® f& @ Recording BS =<\\n\\n      \\n\\nJason Tao 2 Wenshu Li\\n\\nQianchun Yuan I CeleXo V7 mel aMVA\\\\Y/tslk=)ez-10 MaKe)\\n\\nPam Our = rip ~ ao\\n\\n \\n\\nCarly Siuta kathysong\\n\\n  \\n\\nce = Yanyue Yuan\\n\\n  \\n\\nXingyu Wang Qian Xie\\n\\nrf rf\\n‘4 ca LA a 4: a.” a Ld Leave Meeting\\n\\nUnmute Start Video Invite Participants Share Chat\\n'"
            ]
          },
          "metadata": {},
          "execution_count": 64
        }
      ]
    },
    {
      "cell_type": "code",
      "source": [
        "print(text_out[:-1])\n",
        "text_out1=text_out[:-1]"
      ],
      "metadata": {
        "colab": {
          "base_uri": "https://localhost:8080/"
        },
        "id": "gGJ6Nyrj719e",
        "outputId": "fbc45db0-68b3-470d-e8a1-bb06f72702e0"
      },
      "execution_count": 85,
      "outputs": [
        {
          "output_type": "stream",
          "name": "stdout",
          "text": [
            "@® f& @ Recording BS =<\n",
            "\n",
            "      \n",
            "\n",
            "Jason Tao 2 Wenshu Li\n",
            "\n",
            "Qianchun Yuan I CeleXo V7 mel aMVA\\Y/tslk=)ez-10 MaKe)\n",
            "\n",
            "Pam Our = rip ~ ao\n",
            "\n",
            " \n",
            "\n",
            "Carly Siuta kathysong\n",
            "\n",
            "  \n",
            "\n",
            "ce = Yanyue Yuan\n",
            "\n",
            "  \n",
            "\n",
            "Xingyu Wang Qian Xie\n",
            "\n",
            "rf rf\n",
            "‘4 ca LA a 4: a.” a Ld Leave Meeting\n",
            "\n",
            "Unmute Start Video Invite Participants Share Chat\n",
            "\n"
          ]
        }
      ]
    },
    {
      "cell_type": "code",
      "source": [
        "\n",
        "#text_out1 = text_out1.replace(\"\\n\", \"\") "
      ],
      "metadata": {
        "id": "gpAPWshE8fAy"
      },
      "execution_count": 81,
      "outputs": []
    },
    {
      "cell_type": "code",
      "source": [
        "text_out1"
      ],
      "metadata": {
        "colab": {
          "base_uri": "https://localhost:8080/",
          "height": 70
        },
        "id": "9_GfGBPk9CfD",
        "outputId": "bb71fe29-2a19-4020-89be-a45c6b1c067e"
      },
      "execution_count": 86,
      "outputs": [
        {
          "output_type": "execute_result",
          "data": {
            "application/vnd.google.colaboratory.intrinsic+json": {
              "type": "string"
            },
            "text/plain": [
              "'@® f& @ Recording BS =<\\n\\n      \\n\\nJason Tao 2 Wenshu Li\\n\\nQianchun Yuan I CeleXo V7 mel aMVA\\\\Y/tslk=)ez-10 MaKe)\\n\\nPam Our = rip ~ ao\\n\\n \\n\\nCarly Siuta kathysong\\n\\n  \\n\\nce = Yanyue Yuan\\n\\n  \\n\\nXingyu Wang Qian Xie\\n\\nrf rf\\n‘4 ca LA a 4: a.” a Ld Leave Meeting\\n\\nUnmute Start Video Invite Participants Share Chat\\n'"
            ]
          },
          "metadata": {},
          "execution_count": 86
        }
      ]
    },
    {
      "cell_type": "code",
      "source": [
        "# \\n were actually line breaks, removing persistent double line breaks:\n",
        "# we need single linebreaks for name separation\n",
        "text_out1 = text_out1.replace(\"\\n\\n\", \" \")\n",
        "text_out1"
      ],
      "metadata": {
        "colab": {
          "base_uri": "https://localhost:8080/",
          "height": 70
        },
        "id": "--nLGBpMDLsW",
        "outputId": "6ed0e27b-09bd-47d3-b2fe-9625a3c93c81"
      },
      "execution_count": 87,
      "outputs": [
        {
          "output_type": "execute_result",
          "data": {
            "application/vnd.google.colaboratory.intrinsic+json": {
              "type": "string"
            },
            "text/plain": [
              "'@® f& @ Recording BS =<        Jason Tao 2 Wenshu Li Qianchun Yuan I CeleXo V7 mel aMVA\\\\Y/tslk=)ez-10 MaKe) Pam Our = rip ~ ao   Carly Siuta kathysong    ce = Yanyue Yuan    Xingyu Wang Qian Xie rf rf\\n‘4 ca LA a 4: a.” a Ld Leave Meeting Unmute Start Video Invite Participants Share Chat\\n'"
            ]
          },
          "metadata": {},
          "execution_count": 87
        }
      ]
    },
    {
      "cell_type": "code",
      "source": [
        "#un-necessary characters filtering\n",
        "a = \"!@#$=</0123456789®&-()*\"\n",
        "\n",
        "for char in a:\n",
        "    text_out1 = text_out1.replace(char, \"\")\n",
        "\n",
        "print(text_out1)\n"
      ],
      "metadata": {
        "colab": {
          "base_uri": "https://localhost:8080/"
        },
        "id": "aHCw9RaB6hnx",
        "outputId": "23f30342-8f4c-40c2-8146-3fffa6feb56a"
      },
      "execution_count": 88,
      "outputs": [
        {
          "output_type": "stream",
          "name": "stdout",
          "text": [
            " f  Recording BS         Jason Tao  Wenshu Li Qianchun Yuan I CeleXo V mel aMVA\\Ytslkez MaKe Pam Our  rip ~ ao   Carly Siuta kathysong    ce  Yanyue Yuan    Xingyu Wang Qian Xie rf rf\n",
            "‘ ca LA a : a.” a Ld Leave Meeting Unmute Start Video Invite Participants Share Chat\n",
            "\n"
          ]
        }
      ]
    },
    {
      "cell_type": "code",
      "metadata": {
        "id": "C72BK8p0YZt2"
      },
      "source": [
        "d = pytesseract.image_to_data(img, output_type=Output.DICT)"
      ],
      "execution_count": 89,
      "outputs": []
    },
    {
      "cell_type": "code",
      "metadata": {
        "id": "RE0k-po1Y7lU",
        "colab": {
          "base_uri": "https://localhost:8080/"
        },
        "outputId": "125e8480-283c-48c2-9ba3-7cc6bd0e59fa"
      },
      "source": [
        "d.keys()\n",
        "d[\"text\"]"
      ],
      "execution_count": 90,
      "outputs": [
        {
          "output_type": "execute_result",
          "data": {
            "text/plain": [
              "['',\n",
              " '',\n",
              " '',\n",
              " '',\n",
              " '@®',\n",
              " 'f&',\n",
              " '@',\n",
              " 'Recording',\n",
              " 'BS',\n",
              " '=<',\n",
              " '',\n",
              " '',\n",
              " '',\n",
              " '      ',\n",
              " '',\n",
              " '',\n",
              " '',\n",
              " 'Jason',\n",
              " 'Tao',\n",
              " '2',\n",
              " 'Wenshu',\n",
              " 'Li',\n",
              " '',\n",
              " '',\n",
              " '',\n",
              " 'Qianchun',\n",
              " 'Yuan',\n",
              " 'I',\n",
              " 'CeleXo',\n",
              " 'V7',\n",
              " 'mel',\n",
              " 'aMVA\\\\Y/tslk=)ez-10',\n",
              " 'MaKe)',\n",
              " '',\n",
              " '',\n",
              " '',\n",
              " 'Pam',\n",
              " 'Our',\n",
              " '=',\n",
              " 'rip',\n",
              " '~',\n",
              " 'ao',\n",
              " '',\n",
              " '',\n",
              " '',\n",
              " ' ',\n",
              " '',\n",
              " '',\n",
              " '',\n",
              " 'Carly',\n",
              " 'Siuta',\n",
              " 'kathysong',\n",
              " '',\n",
              " '',\n",
              " '',\n",
              " '  ',\n",
              " '',\n",
              " '',\n",
              " '',\n",
              " 'ce',\n",
              " '=',\n",
              " 'Yanyue',\n",
              " 'Yuan',\n",
              " '',\n",
              " '',\n",
              " '',\n",
              " '  ',\n",
              " '',\n",
              " '',\n",
              " '',\n",
              " 'Xingyu',\n",
              " 'Wang',\n",
              " 'Qian',\n",
              " 'Xie',\n",
              " '',\n",
              " '',\n",
              " '',\n",
              " 'rf',\n",
              " 'rf',\n",
              " '',\n",
              " '‘4',\n",
              " 'ca',\n",
              " 'LA',\n",
              " 'a',\n",
              " '4:',\n",
              " 'a.”',\n",
              " 'a',\n",
              " 'Ld',\n",
              " 'Leave',\n",
              " 'Meeting',\n",
              " '',\n",
              " '',\n",
              " '',\n",
              " 'Unmute',\n",
              " 'Start',\n",
              " 'Video',\n",
              " 'Invite',\n",
              " 'Participants',\n",
              " 'Share',\n",
              " 'Chat']"
            ]
          },
          "metadata": {},
          "execution_count": 90
        }
      ]
    },
    {
      "cell_type": "code",
      "metadata": {
        "id": "_CYlpokdZ1mo",
        "colab": {
          "base_uri": "https://localhost:8080/",
          "height": 53
        },
        "outputId": "0f000235-f51b-47c2-f4c8-01d7e7ba3854"
      },
      "source": [
        "\n",
        "  \n",
        "text_out1"
      ],
      "execution_count": 91,
      "outputs": [
        {
          "output_type": "execute_result",
          "data": {
            "application/vnd.google.colaboratory.intrinsic+json": {
              "type": "string"
            },
            "text/plain": [
              "' f  Recording BS         Jason Tao  Wenshu Li Qianchun Yuan I CeleXo V mel aMVA\\\\Ytslkez MaKe Pam Our  rip ~ ao   Carly Siuta kathysong    ce  Yanyue Yuan    Xingyu Wang Qian Xie rf rf\\n‘ ca LA a : a.” a Ld Leave Meeting Unmute Start Video Invite Participants Share Chat\\n'"
            ]
          },
          "metadata": {},
          "execution_count": 91
        }
      ]
    },
    {
      "cell_type": "code",
      "source": [
        ""
      ],
      "metadata": {
        "id": "KelKrMn0AdMW"
      },
      "execution_count": null,
      "outputs": []
    },
    {
      "cell_type": "markdown",
      "source": [
        "##Natural Language Processing\n",
        "Using Spacy library"
      ],
      "metadata": {
        "id": "mZqibyWhAi2k"
      }
    },
    {
      "cell_type": "code",
      "source": [
        "#English Common names \n",
        "!pip install -U spacy\n",
        "!python -m spacy download en_core_web_sm\n",
        "import spacy\n",
        "nlp = spacy.load(\"en_core_web_sm\")\n"
      ],
      "metadata": {
        "colab": {
          "base_uri": "https://localhost:8080/"
        },
        "id": "N_C2_MjFAQKd",
        "outputId": "51eb36e3-98ab-4b85-8f6f-3ed103b18898"
      },
      "execution_count": 77,
      "outputs": [
        {
          "output_type": "stream",
          "name": "stdout",
          "text": [
            "Requirement already satisfied: spacy in /usr/local/lib/python3.7/dist-packages (3.2.1)\n",
            "Requirement already satisfied: requests<3.0.0,>=2.13.0 in /usr/local/lib/python3.7/dist-packages (from spacy) (2.23.0)\n",
            "Requirement already satisfied: catalogue<2.1.0,>=2.0.6 in /usr/local/lib/python3.7/dist-packages (from spacy) (2.0.6)\n",
            "Requirement already satisfied: pathy>=0.3.5 in /usr/local/lib/python3.7/dist-packages (from spacy) (0.6.1)\n",
            "Requirement already satisfied: typing-extensions<4.0.0.0,>=3.7.4 in /usr/local/lib/python3.7/dist-packages (from spacy) (3.10.0.2)\n",
            "Requirement already satisfied: preshed<3.1.0,>=3.0.2 in /usr/local/lib/python3.7/dist-packages (from spacy) (3.0.6)\n",
            "Requirement already satisfied: numpy>=1.15.0 in /usr/local/lib/python3.7/dist-packages (from spacy) (1.19.5)\n",
            "Requirement already satisfied: packaging>=20.0 in /usr/local/lib/python3.7/dist-packages (from spacy) (21.3)\n",
            "Requirement already satisfied: blis<0.8.0,>=0.4.0 in /usr/local/lib/python3.7/dist-packages (from spacy) (0.4.1)\n",
            "Requirement already satisfied: pydantic!=1.8,!=1.8.1,<1.9.0,>=1.7.4 in /usr/local/lib/python3.7/dist-packages (from spacy) (1.8.2)\n",
            "Requirement already satisfied: tqdm<5.0.0,>=4.38.0 in /usr/local/lib/python3.7/dist-packages (from spacy) (4.62.3)\n",
            "Requirement already satisfied: setuptools in /usr/local/lib/python3.7/dist-packages (from spacy) (57.4.0)\n",
            "Requirement already satisfied: langcodes<4.0.0,>=3.2.0 in /usr/local/lib/python3.7/dist-packages (from spacy) (3.3.0)\n",
            "Requirement already satisfied: typer<0.5.0,>=0.3.0 in /usr/local/lib/python3.7/dist-packages (from spacy) (0.4.0)\n",
            "Requirement already satisfied: spacy-legacy<3.1.0,>=3.0.8 in /usr/local/lib/python3.7/dist-packages (from spacy) (3.0.8)\n",
            "Requirement already satisfied: wasabi<1.1.0,>=0.8.1 in /usr/local/lib/python3.7/dist-packages (from spacy) (0.9.0)\n",
            "Requirement already satisfied: cymem<2.1.0,>=2.0.2 in /usr/local/lib/python3.7/dist-packages (from spacy) (2.0.6)\n",
            "Requirement already satisfied: spacy-loggers<2.0.0,>=1.0.0 in /usr/local/lib/python3.7/dist-packages (from spacy) (1.0.1)\n",
            "Requirement already satisfied: thinc<8.1.0,>=8.0.12 in /usr/local/lib/python3.7/dist-packages (from spacy) (8.0.13)\n",
            "Requirement already satisfied: srsly<3.0.0,>=2.4.1 in /usr/local/lib/python3.7/dist-packages (from spacy) (2.4.2)\n",
            "Requirement already satisfied: murmurhash<1.1.0,>=0.28.0 in /usr/local/lib/python3.7/dist-packages (from spacy) (1.0.6)\n",
            "Requirement already satisfied: jinja2 in /usr/local/lib/python3.7/dist-packages (from spacy) (2.11.3)\n",
            "Requirement already satisfied: zipp>=0.5 in /usr/local/lib/python3.7/dist-packages (from catalogue<2.1.0,>=2.0.6->spacy) (3.7.0)\n",
            "Requirement already satisfied: pyparsing!=3.0.5,>=2.0.2 in /usr/local/lib/python3.7/dist-packages (from packaging>=20.0->spacy) (3.0.6)\n",
            "Requirement already satisfied: smart-open<6.0.0,>=5.0.0 in /usr/local/lib/python3.7/dist-packages (from pathy>=0.3.5->spacy) (5.2.1)\n",
            "Requirement already satisfied: certifi>=2017.4.17 in /usr/local/lib/python3.7/dist-packages (from requests<3.0.0,>=2.13.0->spacy) (2021.10.8)\n",
            "Requirement already satisfied: urllib3!=1.25.0,!=1.25.1,<1.26,>=1.21.1 in /usr/local/lib/python3.7/dist-packages (from requests<3.0.0,>=2.13.0->spacy) (1.24.3)\n",
            "Requirement already satisfied: chardet<4,>=3.0.2 in /usr/local/lib/python3.7/dist-packages (from requests<3.0.0,>=2.13.0->spacy) (3.0.4)\n",
            "Requirement already satisfied: idna<3,>=2.5 in /usr/local/lib/python3.7/dist-packages (from requests<3.0.0,>=2.13.0->spacy) (2.10)\n",
            "Requirement already satisfied: click<9.0.0,>=7.1.1 in /usr/local/lib/python3.7/dist-packages (from typer<0.5.0,>=0.3.0->spacy) (7.1.2)\n",
            "Requirement already satisfied: MarkupSafe>=0.23 in /usr/local/lib/python3.7/dist-packages (from jinja2->spacy) (2.0.1)\n",
            "Collecting en-core-web-sm==3.2.0\n",
            "  Downloading https://github.com/explosion/spacy-models/releases/download/en_core_web_sm-3.2.0/en_core_web_sm-3.2.0-py3-none-any.whl (13.9 MB)\n",
            "\u001b[K     |████████████████████████████████| 13.9 MB 558 kB/s \n",
            "\u001b[?25hRequirement already satisfied: spacy<3.3.0,>=3.2.0 in /usr/local/lib/python3.7/dist-packages (from en-core-web-sm==3.2.0) (3.2.1)\n",
            "Requirement already satisfied: srsly<3.0.0,>=2.4.1 in /usr/local/lib/python3.7/dist-packages (from spacy<3.3.0,>=3.2.0->en-core-web-sm==3.2.0) (2.4.2)\n",
            "Requirement already satisfied: pathy>=0.3.5 in /usr/local/lib/python3.7/dist-packages (from spacy<3.3.0,>=3.2.0->en-core-web-sm==3.2.0) (0.6.1)\n",
            "Requirement already satisfied: murmurhash<1.1.0,>=0.28.0 in /usr/local/lib/python3.7/dist-packages (from spacy<3.3.0,>=3.2.0->en-core-web-sm==3.2.0) (1.0.6)\n",
            "Requirement already satisfied: pydantic!=1.8,!=1.8.1,<1.9.0,>=1.7.4 in /usr/local/lib/python3.7/dist-packages (from spacy<3.3.0,>=3.2.0->en-core-web-sm==3.2.0) (1.8.2)\n",
            "Requirement already satisfied: requests<3.0.0,>=2.13.0 in /usr/local/lib/python3.7/dist-packages (from spacy<3.3.0,>=3.2.0->en-core-web-sm==3.2.0) (2.23.0)\n",
            "Requirement already satisfied: setuptools in /usr/local/lib/python3.7/dist-packages (from spacy<3.3.0,>=3.2.0->en-core-web-sm==3.2.0) (57.4.0)\n",
            "Requirement already satisfied: typing-extensions<4.0.0.0,>=3.7.4 in /usr/local/lib/python3.7/dist-packages (from spacy<3.3.0,>=3.2.0->en-core-web-sm==3.2.0) (3.10.0.2)\n",
            "Requirement already satisfied: spacy-legacy<3.1.0,>=3.0.8 in /usr/local/lib/python3.7/dist-packages (from spacy<3.3.0,>=3.2.0->en-core-web-sm==3.2.0) (3.0.8)\n",
            "Requirement already satisfied: jinja2 in /usr/local/lib/python3.7/dist-packages (from spacy<3.3.0,>=3.2.0->en-core-web-sm==3.2.0) (2.11.3)\n",
            "Requirement already satisfied: langcodes<4.0.0,>=3.2.0 in /usr/local/lib/python3.7/dist-packages (from spacy<3.3.0,>=3.2.0->en-core-web-sm==3.2.0) (3.3.0)\n",
            "Requirement already satisfied: catalogue<2.1.0,>=2.0.6 in /usr/local/lib/python3.7/dist-packages (from spacy<3.3.0,>=3.2.0->en-core-web-sm==3.2.0) (2.0.6)\n",
            "Requirement already satisfied: tqdm<5.0.0,>=4.38.0 in /usr/local/lib/python3.7/dist-packages (from spacy<3.3.0,>=3.2.0->en-core-web-sm==3.2.0) (4.62.3)\n",
            "Requirement already satisfied: typer<0.5.0,>=0.3.0 in /usr/local/lib/python3.7/dist-packages (from spacy<3.3.0,>=3.2.0->en-core-web-sm==3.2.0) (0.4.0)\n",
            "Requirement already satisfied: preshed<3.1.0,>=3.0.2 in /usr/local/lib/python3.7/dist-packages (from spacy<3.3.0,>=3.2.0->en-core-web-sm==3.2.0) (3.0.6)\n",
            "Requirement already satisfied: numpy>=1.15.0 in /usr/local/lib/python3.7/dist-packages (from spacy<3.3.0,>=3.2.0->en-core-web-sm==3.2.0) (1.19.5)\n",
            "Requirement already satisfied: cymem<2.1.0,>=2.0.2 in /usr/local/lib/python3.7/dist-packages (from spacy<3.3.0,>=3.2.0->en-core-web-sm==3.2.0) (2.0.6)\n",
            "Requirement already satisfied: thinc<8.1.0,>=8.0.12 in /usr/local/lib/python3.7/dist-packages (from spacy<3.3.0,>=3.2.0->en-core-web-sm==3.2.0) (8.0.13)\n",
            "Requirement already satisfied: wasabi<1.1.0,>=0.8.1 in /usr/local/lib/python3.7/dist-packages (from spacy<3.3.0,>=3.2.0->en-core-web-sm==3.2.0) (0.9.0)\n",
            "Requirement already satisfied: blis<0.8.0,>=0.4.0 in /usr/local/lib/python3.7/dist-packages (from spacy<3.3.0,>=3.2.0->en-core-web-sm==3.2.0) (0.4.1)\n",
            "Requirement already satisfied: packaging>=20.0 in /usr/local/lib/python3.7/dist-packages (from spacy<3.3.0,>=3.2.0->en-core-web-sm==3.2.0) (21.3)\n",
            "Requirement already satisfied: spacy-loggers<2.0.0,>=1.0.0 in /usr/local/lib/python3.7/dist-packages (from spacy<3.3.0,>=3.2.0->en-core-web-sm==3.2.0) (1.0.1)\n",
            "Requirement already satisfied: zipp>=0.5 in /usr/local/lib/python3.7/dist-packages (from catalogue<2.1.0,>=2.0.6->spacy<3.3.0,>=3.2.0->en-core-web-sm==3.2.0) (3.7.0)\n",
            "Requirement already satisfied: pyparsing!=3.0.5,>=2.0.2 in /usr/local/lib/python3.7/dist-packages (from packaging>=20.0->spacy<3.3.0,>=3.2.0->en-core-web-sm==3.2.0) (3.0.6)\n",
            "Requirement already satisfied: smart-open<6.0.0,>=5.0.0 in /usr/local/lib/python3.7/dist-packages (from pathy>=0.3.5->spacy<3.3.0,>=3.2.0->en-core-web-sm==3.2.0) (5.2.1)\n",
            "Requirement already satisfied: urllib3!=1.25.0,!=1.25.1,<1.26,>=1.21.1 in /usr/local/lib/python3.7/dist-packages (from requests<3.0.0,>=2.13.0->spacy<3.3.0,>=3.2.0->en-core-web-sm==3.2.0) (1.24.3)\n",
            "Requirement already satisfied: idna<3,>=2.5 in /usr/local/lib/python3.7/dist-packages (from requests<3.0.0,>=2.13.0->spacy<3.3.0,>=3.2.0->en-core-web-sm==3.2.0) (2.10)\n",
            "Requirement already satisfied: chardet<4,>=3.0.2 in /usr/local/lib/python3.7/dist-packages (from requests<3.0.0,>=2.13.0->spacy<3.3.0,>=3.2.0->en-core-web-sm==3.2.0) (3.0.4)\n",
            "Requirement already satisfied: certifi>=2017.4.17 in /usr/local/lib/python3.7/dist-packages (from requests<3.0.0,>=2.13.0->spacy<3.3.0,>=3.2.0->en-core-web-sm==3.2.0) (2021.10.8)\n",
            "Requirement already satisfied: click<9.0.0,>=7.1.1 in /usr/local/lib/python3.7/dist-packages (from typer<0.5.0,>=0.3.0->spacy<3.3.0,>=3.2.0->en-core-web-sm==3.2.0) (7.1.2)\n",
            "Requirement already satisfied: MarkupSafe>=0.23 in /usr/local/lib/python3.7/dist-packages (from jinja2->spacy<3.3.0,>=3.2.0->en-core-web-sm==3.2.0) (2.0.1)\n",
            "\u001b[38;5;2m✔ Download and installation successful\u001b[0m\n",
            "You can now load the package via spacy.load('en_core_web_sm')\n"
          ]
        }
      ]
    },
    {
      "cell_type": "code",
      "source": [
        "# Load English tokenizer, tagger, parser and NER\n",
        "nlp = spacy.load(\"en_core_web_sm\")\n",
        "\n",
        "# Process text file\n",
        "\n",
        "doc = nlp(text_out1)\n",
        "\n",
        "# Find named entities, phrases and concepts\n",
        "for entity in doc.ents:\n",
        "    print(entity.text)"
      ],
      "metadata": {
        "colab": {
          "base_uri": "https://localhost:8080/"
        },
        "id": "Htbdw360-iyH",
        "outputId": "30a94a73-497e-4ba6-b3fc-3f43afd8ad0c"
      },
      "execution_count": 101,
      "outputs": [
        {
          "output_type": "stream",
          "name": "stdout",
          "text": [
            "Jason Tao  Wenshu\n",
            "MaKe Pam\n",
            "Carly Siuta\n",
            "Qian Xie\n",
            "LA\n"
          ]
        }
      ]
    },
    {
      "cell_type": "code",
      "source": [
        "doc = nlp(text_out1)\n",
        "\n",
        "# Analyze syntax\n",
        "#print(\"Noun phrases:\", [chunk.text for chunk in doc.noun_chunks])\n",
        "#print(\"Verbs:\", [token.lemma_ for token in doc if token.pos_ == \"VERB\"])\n",
        "\n",
        "# Find named entities, phrases and concepts\n",
        "for entity in doc.ents:\n",
        "    print(entity.text, entity.label_)"
      ],
      "metadata": {
        "id": "3ExRLb4rNYj6",
        "outputId": "dc44929a-09d8-4270-b015-1fa01f0ba0a8",
        "colab": {
          "base_uri": "https://localhost:8080/"
        }
      },
      "execution_count": 102,
      "outputs": [
        {
          "output_type": "stream",
          "name": "stdout",
          "text": [
            "Jason Tao  Wenshu PERSON\n",
            "MaKe Pam PERSON\n",
            "Carly Siuta WORK_OF_ART\n",
            "Qian Xie PERSON\n",
            "LA GPE\n"
          ]
        }
      ]
    },
    {
      "cell_type": "code",
      "source": [
        "text=text_out1\n",
        "def find_persons(text):\n",
        "     # Create Doc object\n",
        "     doc2 = nlp(text)\n",
        "\n",
        "     # Identify the persons\n",
        "     persons = [ent.text for ent in doc2.ents if ent.label_ == 'PERSON']\n",
        "\n",
        "     # Return persons\n",
        "     return persons"
      ],
      "metadata": {
        "id": "28T7nDHOXcbR"
      },
      "execution_count": 103,
      "outputs": []
    },
    {
      "cell_type": "code",
      "source": [
        "find_persons(text)"
      ],
      "metadata": {
        "colab": {
          "base_uri": "https://localhost:8080/"
        },
        "id": "CVvtzIo__zGi",
        "outputId": "9a14ed18-67c8-4854-e2ad-60e23ffe9f95"
      },
      "execution_count": 104,
      "outputs": [
        {
          "output_type": "execute_result",
          "data": {
            "text/plain": [
              "['Jason Tao  Wenshu', 'MaKe Pam', 'Qian Xie']"
            ]
          },
          "metadata": {},
          "execution_count": 104
        }
      ]
    },
    {
      "cell_type": "code",
      "source": [
        "#multi-language module including Telegu, Marathi and English Common names\n",
        "!python -m spacy download xx_sent_ud_sm"
      ],
      "metadata": {
        "colab": {
          "base_uri": "https://localhost:8080/"
        },
        "id": "VzLeZra8GLxd",
        "outputId": "a9ff6139-ef1e-4caf-c71a-c8d62a2d4fca"
      },
      "execution_count": 99,
      "outputs": [
        {
          "output_type": "stream",
          "name": "stdout",
          "text": [
            "Collecting xx-sent-ud-sm==3.2.0\n",
            "  Downloading https://github.com/explosion/spacy-models/releases/download/xx_sent_ud_sm-3.2.0/xx_sent_ud_sm-3.2.0-py3-none-any.whl (4.3 MB)\n",
            "\u001b[K     |████████████████████████████████| 4.3 MB 4.4 MB/s \n",
            "\u001b[?25hRequirement already satisfied: spacy<3.3.0,>=3.2.0 in /usr/local/lib/python3.7/dist-packages (from xx-sent-ud-sm==3.2.0) (3.2.1)\n",
            "Requirement already satisfied: catalogue<2.1.0,>=2.0.6 in /usr/local/lib/python3.7/dist-packages (from spacy<3.3.0,>=3.2.0->xx-sent-ud-sm==3.2.0) (2.0.6)\n",
            "Requirement already satisfied: cymem<2.1.0,>=2.0.2 in /usr/local/lib/python3.7/dist-packages (from spacy<3.3.0,>=3.2.0->xx-sent-ud-sm==3.2.0) (2.0.6)\n",
            "Requirement already satisfied: typer<0.5.0,>=0.3.0 in /usr/local/lib/python3.7/dist-packages (from spacy<3.3.0,>=3.2.0->xx-sent-ud-sm==3.2.0) (0.4.0)\n",
            "Requirement already satisfied: packaging>=20.0 in /usr/local/lib/python3.7/dist-packages (from spacy<3.3.0,>=3.2.0->xx-sent-ud-sm==3.2.0) (21.3)\n",
            "Requirement already satisfied: preshed<3.1.0,>=3.0.2 in /usr/local/lib/python3.7/dist-packages (from spacy<3.3.0,>=3.2.0->xx-sent-ud-sm==3.2.0) (3.0.6)\n",
            "Requirement already satisfied: blis<0.8.0,>=0.4.0 in /usr/local/lib/python3.7/dist-packages (from spacy<3.3.0,>=3.2.0->xx-sent-ud-sm==3.2.0) (0.4.1)\n",
            "Requirement already satisfied: murmurhash<1.1.0,>=0.28.0 in /usr/local/lib/python3.7/dist-packages (from spacy<3.3.0,>=3.2.0->xx-sent-ud-sm==3.2.0) (1.0.6)\n",
            "Requirement already satisfied: pydantic!=1.8,!=1.8.1,<1.9.0,>=1.7.4 in /usr/local/lib/python3.7/dist-packages (from spacy<3.3.0,>=3.2.0->xx-sent-ud-sm==3.2.0) (1.8.2)\n",
            "Requirement already satisfied: langcodes<4.0.0,>=3.2.0 in /usr/local/lib/python3.7/dist-packages (from spacy<3.3.0,>=3.2.0->xx-sent-ud-sm==3.2.0) (3.3.0)\n",
            "Requirement already satisfied: setuptools in /usr/local/lib/python3.7/dist-packages (from spacy<3.3.0,>=3.2.0->xx-sent-ud-sm==3.2.0) (57.4.0)\n",
            "Requirement already satisfied: spacy-legacy<3.1.0,>=3.0.8 in /usr/local/lib/python3.7/dist-packages (from spacy<3.3.0,>=3.2.0->xx-sent-ud-sm==3.2.0) (3.0.8)\n",
            "Requirement already satisfied: thinc<8.1.0,>=8.0.12 in /usr/local/lib/python3.7/dist-packages (from spacy<3.3.0,>=3.2.0->xx-sent-ud-sm==3.2.0) (8.0.13)\n",
            "Requirement already satisfied: spacy-loggers<2.0.0,>=1.0.0 in /usr/local/lib/python3.7/dist-packages (from spacy<3.3.0,>=3.2.0->xx-sent-ud-sm==3.2.0) (1.0.1)\n",
            "Requirement already satisfied: pathy>=0.3.5 in /usr/local/lib/python3.7/dist-packages (from spacy<3.3.0,>=3.2.0->xx-sent-ud-sm==3.2.0) (0.6.1)\n",
            "Requirement already satisfied: numpy>=1.15.0 in /usr/local/lib/python3.7/dist-packages (from spacy<3.3.0,>=3.2.0->xx-sent-ud-sm==3.2.0) (1.19.5)\n",
            "Requirement already satisfied: srsly<3.0.0,>=2.4.1 in /usr/local/lib/python3.7/dist-packages (from spacy<3.3.0,>=3.2.0->xx-sent-ud-sm==3.2.0) (2.4.2)\n",
            "Requirement already satisfied: wasabi<1.1.0,>=0.8.1 in /usr/local/lib/python3.7/dist-packages (from spacy<3.3.0,>=3.2.0->xx-sent-ud-sm==3.2.0) (0.9.0)\n",
            "Requirement already satisfied: requests<3.0.0,>=2.13.0 in /usr/local/lib/python3.7/dist-packages (from spacy<3.3.0,>=3.2.0->xx-sent-ud-sm==3.2.0) (2.23.0)\n",
            "Requirement already satisfied: tqdm<5.0.0,>=4.38.0 in /usr/local/lib/python3.7/dist-packages (from spacy<3.3.0,>=3.2.0->xx-sent-ud-sm==3.2.0) (4.62.3)\n",
            "Requirement already satisfied: jinja2 in /usr/local/lib/python3.7/dist-packages (from spacy<3.3.0,>=3.2.0->xx-sent-ud-sm==3.2.0) (2.11.3)\n",
            "Requirement already satisfied: typing-extensions<4.0.0.0,>=3.7.4 in /usr/local/lib/python3.7/dist-packages (from spacy<3.3.0,>=3.2.0->xx-sent-ud-sm==3.2.0) (3.10.0.2)\n",
            "Requirement already satisfied: zipp>=0.5 in /usr/local/lib/python3.7/dist-packages (from catalogue<2.1.0,>=2.0.6->spacy<3.3.0,>=3.2.0->xx-sent-ud-sm==3.2.0) (3.7.0)\n",
            "Requirement already satisfied: pyparsing!=3.0.5,>=2.0.2 in /usr/local/lib/python3.7/dist-packages (from packaging>=20.0->spacy<3.3.0,>=3.2.0->xx-sent-ud-sm==3.2.0) (3.0.6)\n",
            "Requirement already satisfied: smart-open<6.0.0,>=5.0.0 in /usr/local/lib/python3.7/dist-packages (from pathy>=0.3.5->spacy<3.3.0,>=3.2.0->xx-sent-ud-sm==3.2.0) (5.2.1)\n",
            "Requirement already satisfied: idna<3,>=2.5 in /usr/local/lib/python3.7/dist-packages (from requests<3.0.0,>=2.13.0->spacy<3.3.0,>=3.2.0->xx-sent-ud-sm==3.2.0) (2.10)\n",
            "Requirement already satisfied: chardet<4,>=3.0.2 in /usr/local/lib/python3.7/dist-packages (from requests<3.0.0,>=2.13.0->spacy<3.3.0,>=3.2.0->xx-sent-ud-sm==3.2.0) (3.0.4)\n",
            "Requirement already satisfied: urllib3!=1.25.0,!=1.25.1,<1.26,>=1.21.1 in /usr/local/lib/python3.7/dist-packages (from requests<3.0.0,>=2.13.0->spacy<3.3.0,>=3.2.0->xx-sent-ud-sm==3.2.0) (1.24.3)\n",
            "Requirement already satisfied: certifi>=2017.4.17 in /usr/local/lib/python3.7/dist-packages (from requests<3.0.0,>=2.13.0->spacy<3.3.0,>=3.2.0->xx-sent-ud-sm==3.2.0) (2021.10.8)\n",
            "Requirement already satisfied: click<9.0.0,>=7.1.1 in /usr/local/lib/python3.7/dist-packages (from typer<0.5.0,>=0.3.0->spacy<3.3.0,>=3.2.0->xx-sent-ud-sm==3.2.0) (7.1.2)\n",
            "Requirement already satisfied: MarkupSafe>=0.23 in /usr/local/lib/python3.7/dist-packages (from jinja2->spacy<3.3.0,>=3.2.0->xx-sent-ud-sm==3.2.0) (2.0.1)\n",
            "\u001b[38;5;2m✔ Download and installation successful\u001b[0m\n",
            "You can now load the package via spacy.load('xx_sent_ud_sm')\n"
          ]
        }
      ]
    },
    {
      "cell_type": "code",
      "source": [
        "# Load multi-language tokenizer, tagger, parser and NER\n",
        "nlp = spacy.load(\"xx_sent_ud_sm\")\n",
        "\n",
        "# Process text file\n",
        "\n",
        "doc = nlp(text_out1)\n",
        "\n",
        "# Find named entities, phrases and concepts\n",
        "for entity in doc.ents:\n",
        "    print(entity.text)"
      ],
      "metadata": {
        "id": "n6Ns5hUtGL0W"
      },
      "execution_count": 100,
      "outputs": []
    },
    {
      "cell_type": "code",
      "source": [
        ""
      ],
      "metadata": {
        "id": "BrcDuCfbGrvd"
      },
      "execution_count": null,
      "outputs": []
    },
    {
      "cell_type": "code",
      "source": [
        ""
      ],
      "metadata": {
        "id": "k7VCQFuZGryD"
      },
      "execution_count": null,
      "outputs": []
    },
    {
      "cell_type": "markdown",
      "source": [
        "##Same Image file OCR from online tool "
      ],
      "metadata": {
        "id": "Px9C7BMiGwtQ"
      }
    },
    {
      "cell_type": "code",
      "source": [
        "import spacy \n",
        "#from spacy import display\n",
        "raw_text=''' Jiankun Kang \n",
        "Luis Wang \n",
        "\n",
        "Jason Tao \n",
        "\n",
        "Jintao \n",
        "\n",
        "Wens \n",
        "Speaker View \n",
        "\n",
        "Qianchun Yuan \n",
        "\n",
        "Melody \n",
        "Harry MatePad Pro \n",
        "Sophie Xu \n",
        "\n",
        "Carly Siuta \n",
        "\n",
        "kathysong \n",
        "\n",
        "1. Yanyue Yuan \n",
        "\n",
        "Uxian Cui \n",
        "Xingyu Wang \n",
        "\n",
        "Qian Xie \n",
        "Eric Set \n",
        "'''  \n",
        "NER = spacy.load(\"en_core_web_sm\") \n",
        "text1= NER(raw_text) \n",
        "#creating new set of present students\n",
        "sets=set()\n",
        "for word in text1.ents:\n",
        "    sets.add(word.text)\n",
        "    print(word.text,word.label_)\n",
        "sets\n"
      ],
      "metadata": {
        "id": "5zy36u4GXcnp",
        "outputId": "2bc3c15b-8d28-4a9e-a922-d4f86a98adb8",
        "colab": {
          "base_uri": "https://localhost:8080/"
        }
      },
      "execution_count": 105,
      "outputs": [
        {
          "output_type": "stream",
          "name": "stdout",
          "text": [
            "Jiankun Kang PERSON\n",
            "Luis Wang \n",
            "\n",
            " PERSON\n",
            "Jason Tao \n",
            "\n",
            "Jintao PERSON\n",
            "Harry MatePad Pro PERSON\n",
            "Carly Siuta WORK_OF_ART\n",
            "1 CARDINAL\n",
            "Yanyue Yuan PERSON\n",
            "Xingyu Wang PERSON\n",
            "Qian Xie PERSON\n",
            "Eric Set PERSON\n"
          ]
        },
        {
          "output_type": "execute_result",
          "data": {
            "text/plain": [
              "{'1',\n",
              " 'Carly Siuta',\n",
              " 'Eric Set',\n",
              " 'Harry MatePad Pro',\n",
              " 'Jason Tao \\n\\nJintao',\n",
              " 'Jiankun Kang',\n",
              " 'Luis Wang \\n\\n',\n",
              " 'Qian Xie',\n",
              " 'Xingyu Wang',\n",
              " 'Yanyue Yuan'}"
            ]
          },
          "metadata": {},
          "execution_count": 105
        }
      ]
    },
    {
      "cell_type": "code",
      "source": [
        "GEEK = set()\n",
        "  \n",
        "# adding 1\n",
        "GEEK.add(1)\n",
        "print(GEEK)"
      ],
      "metadata": {
        "id": "2DUkypEvcjpj",
        "outputId": "6052c7ef-dbfc-4f86-ef2d-827ab1966d63",
        "colab": {
          "base_uri": "https://localhost:8080/"
        }
      },
      "execution_count": null,
      "outputs": [
        {
          "output_type": "stream",
          "name": "stdout",
          "text": [
            "{1}\n"
          ]
        }
      ]
    },
    {
      "cell_type": "code",
      "source": [
        "present_students"
      ],
      "metadata": {
        "id": "00G3dhNHbWE2",
        "outputId": "8b6733db-bd2a-431c-c636-294d1f28f2c1",
        "colab": {
          "base_uri": "https://localhost:8080/"
        }
      },
      "execution_count": null,
      "outputs": [
        {
          "output_type": "execute_result",
          "data": {
            "text/plain": [
              "['Akriti Bhandari\\n\\nAnurodh Ghimire', 'Bijay Kandel']"
            ]
          },
          "metadata": {},
          "execution_count": 51
        }
      ]
    },
    {
      "cell_type": "code",
      "metadata": {
        "id": "GG5qGaUvZ1wk",
        "colab": {
          "base_uri": "https://localhost:8080/"
        },
        "outputId": "4749b35d-72fe-4ce3-a1ad-51264924e514"
      },
      "source": [
        "import spacy \n",
        "\n",
        "NER = spacy.load(\"en_core_web_sm\") \n",
        "text1= NER(text) \n",
        "for word in text1.ents:\n",
        "    print(word.text,word.label_)\n",
        "  \n",
        "\n"
      ],
      "execution_count": 107,
      "outputs": [
        {
          "output_type": "stream",
          "name": "stdout",
          "text": [
            "Jason Tao  Wenshu PERSON\n",
            "MaKe Pam PERSON\n",
            "Carly Siuta WORK_OF_ART\n",
            "Qian Xie PERSON\n",
            "LA GPE\n"
          ]
        }
      ]
    },
    {
      "cell_type": "markdown",
      "source": [
        "#Polishing registered names to filtered elements"
      ],
      "metadata": {
        "id": "weLHHUf9KS6l"
      }
    },
    {
      "cell_type": "code",
      "source": [
        "!pip install fuzzywuzzy\n",
        "from fuzzywuzzy import process\n",
        "\n",
        "#code under development.............\n",
        "\n",
        "str2Match = \"wenshu li\"\n",
        "strOptions = [\"Jason Tao Wenshu\",\"Make Pam\",\"apple Carly Siuta\",\"Qian Xie\"]\n",
        "Ratios = process.extract(str2Match,strOptions)\n",
        "print(Ratios)"
      ],
      "metadata": {
        "id": "Eecj8SS1Zc1T",
        "outputId": "cab73cee-1ee2-4b6d-c77a-fd954f74c39d",
        "colab": {
          "base_uri": "https://localhost:8080/"
        }
      },
      "execution_count": 108,
      "outputs": [
        {
          "output_type": "stream",
          "name": "stdout",
          "text": [
            "Collecting fuzzywuzzy\n",
            "  Downloading fuzzywuzzy-0.18.0-py2.py3-none-any.whl (18 kB)\n",
            "Installing collected packages: fuzzywuzzy\n",
            "Successfully installed fuzzywuzzy-0.18.0\n",
            "[('Jason Tao Wenshu', 86), ('Qian Xie', 33), ('apple Carly Siuta', 30), ('Make Pam', 24)]\n"
          ]
        },
        {
          "output_type": "stream",
          "name": "stderr",
          "text": [
            "/usr/local/lib/python3.7/dist-packages/fuzzywuzzy/fuzz.py:11: UserWarning: Using slow pure-python SequenceMatcher. Install python-Levenshtein to remove this warning\n",
            "  warnings.warn('Using slow pure-python SequenceMatcher. Install python-Levenshtein to remove this warning')\n"
          ]
        }
      ]
    },
    {
      "cell_type": "code",
      "source": [
        "\n",
        "Ratios = process.extract(str2Match,strOptions)\n",
        "print(Ratios)\n"
      ],
      "metadata": {
        "id": "78wllNV-sh-4",
        "outputId": "2568fc31-7bab-489d-8d19-0380b6ccd258",
        "colab": {
          "base_uri": "https://localhost:8080/"
        }
      },
      "execution_count": 109,
      "outputs": [
        {
          "output_type": "stream",
          "name": "stdout",
          "text": [
            "[('Jason Tao Wenshu', 86), ('Qian Xie', 33), ('apple Carly Siuta', 30), ('Make Pam', 24)]\n"
          ]
        }
      ]
    },
    {
      "cell_type": "code",
      "source": [
        "type(Ratios)"
      ],
      "metadata": {
        "id": "Ow0qVwbivFzb",
        "outputId": "5a8ac6d1-feb6-4861-dffa-84d03c7e2674",
        "colab": {
          "base_uri": "https://localhost:8080/"
        }
      },
      "execution_count": null,
      "outputs": [
        {
          "output_type": "execute_result",
          "data": {
            "text/plain": [
              "list"
            ]
          },
          "metadata": {},
          "execution_count": 115
        }
      ]
    },
    {
      "cell_type": "code",
      "source": [
        "Rations=dict(Ratios)\n",
        "max_key = max(Rations, key=Rations.get) \n",
        "print(max_key)"
      ],
      "metadata": {
        "id": "bpqIJ-GVssd-",
        "outputId": "76bf87c1-cda0-4e43-add6-aa092f41e291",
        "colab": {
          "base_uri": "https://localhost:8080/"
        }
      },
      "execution_count": 110,
      "outputs": [
        {
          "output_type": "stream",
          "name": "stdout",
          "text": [
            "Jason Tao Wenshu\n"
          ]
        }
      ]
    },
    {
      "cell_type": "code",
      "source": [
        "#codes for replacing"
      ],
      "metadata": {
        "id": "8Ats-nCXLmvA"
      },
      "execution_count": null,
      "outputs": []
    },
    {
      "cell_type": "markdown",
      "source": [
        "##Further Plans"
      ],
      "metadata": {
        "id": "MBPTWlLBLpBf"
      }
    },
    {
      "cell_type": "code",
      "source": [
        "absent students = real set of registered names - present students "
      ],
      "metadata": {
        "id": "MBcTAUJWLoX4"
      },
      "execution_count": null,
      "outputs": []
    },
    {
      "cell_type": "code",
      "source": [
        ""
      ],
      "metadata": {
        "id": "pQCARnVRLmx7"
      },
      "execution_count": null,
      "outputs": []
    }
  ]
}